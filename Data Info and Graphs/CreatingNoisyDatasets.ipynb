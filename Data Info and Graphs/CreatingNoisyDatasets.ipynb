{
 "cells": [
  {
   "cell_type": "markdown",
   "id": "897a8e07",
   "metadata": {},
   "source": [
    "# 0.1 Gaussian Noise"
   ]
  },
  {
   "cell_type": "code",
   "execution_count": 1,
   "id": "a25f7d02",
   "metadata": {},
   "outputs": [
    {
     "name": "stdout",
     "output_type": "stream",
     "text": [
      "Noisy datasets have been saved.\n"
     ]
    }
   ],
   "source": [
    "import pandas as pd\n",
    "import numpy as np\n",
    "\n",
    "def add_gaussian_noise(file_path, noise_level=0.1):\n",
    "    \"\"\"\n",
    "    Add Gaussian noise to a dataset.\n",
    "\n",
    "    Args:\n",
    "    file_path (str): Path to the CSV file containing the dataset.\n",
    "    noise_level (float): Fraction of the standard deviation of each column used as the standard deviation of the noise.\n",
    "\n",
    "    Returns:\n",
    "    pd.DataFrame: DataFrame with added noise.\n",
    "    \"\"\"\n",
    "    data = pd.read_csv(file_path)\n",
    "    # Applying noise only to numerical columns, assuming 'Vehicle' and 'Eligible' should not have noise\n",
    "    numerical_cols = data.select_dtypes(include=[np.number]).columns.tolist()\n",
    "    for column in numerical_cols:\n",
    "        if column not in ['Vehicle', 'Eligible']:  # Presuming 'Vehicle' might be an identifier\n",
    "            std_dev = data[column].std()\n",
    "            noise = np.random.normal(loc=0, scale=noise_level * std_dev, size=data[column].shape)\n",
    "            data[column] += noise\n",
    "    return data\n",
    "\n",
    "# Paths to your datasets\n",
    "vehicle_dataset_path = '1000VehicleDataset.csv'\n",
    "training_dataset_path = 'VehicleTrainingDataset.csv'\n",
    "\n",
    "# Add Gaussian noise to datasets\n",
    "noisy_vehicle_data = add_gaussian_noise(vehicle_dataset_path, noise_level=0.1)  # Change noise level as needed\n",
    "noisy_training_data = add_gaussian_noise(training_dataset_path, noise_level=0.1)  # Change noise level as needed\n",
    "\n",
    "# Save the noisy datasets to new CSV files\n",
    "noisy_vehicle_data.to_csv('1000VehicleDataset_Noisy_0.1.csv', index=False)\n",
    "noisy_training_data.to_csv('VehicleTrainingDataset_Noisy_0.1.csv', index=False)\n",
    "\n",
    "print(\"Noisy datasets have been saved.\")\n"
   ]
  },
  {
   "cell_type": "markdown",
   "id": "a81badd8",
   "metadata": {},
   "source": [
    "# 0.01 Gaussian Noise"
   ]
  },
  {
   "cell_type": "code",
   "execution_count": 2,
   "id": "eae95a41",
   "metadata": {},
   "outputs": [
    {
     "name": "stdout",
     "output_type": "stream",
     "text": [
      "Noisy datasets have been saved.\n"
     ]
    }
   ],
   "source": [
    "import pandas as pd\n",
    "import numpy as np\n",
    "\n",
    "def add_gaussian_noise(file_path, noise_level=0.01):\n",
    "    \"\"\"\n",
    "    Add Gaussian noise to a dataset.\n",
    "\n",
    "    Args:\n",
    "    file_path (str): Path to the CSV file containing the dataset.\n",
    "    noise_level (float): Fraction of the standard deviation of each column used as the standard deviation of the noise.\n",
    "\n",
    "    Returns:\n",
    "    pd.DataFrame: DataFrame with added noise.\n",
    "    \"\"\"\n",
    "    data = pd.read_csv(file_path)\n",
    "    # Applying noise only to numerical columns, assuming 'Vehicle' and 'Eligible' should not have noise\n",
    "    numerical_cols = data.select_dtypes(include=[np.number]).columns.tolist()\n",
    "    for column in numerical_cols:\n",
    "        if column not in ['Vehicle', 'Eligible']:  # Presuming 'Vehicle' might be an identifier\n",
    "            std_dev = data[column].std()\n",
    "            noise = np.random.normal(loc=0, scale=noise_level * std_dev, size=data[column].shape)\n",
    "            data[column] += noise\n",
    "    return data\n",
    "\n",
    "# Paths to your datasets\n",
    "vehicle_dataset_path = '1000VehicleDataset.csv'\n",
    "training_dataset_path = 'VehicleTrainingDataset.csv'\n",
    "\n",
    "# Add Gaussian noise to datasets\n",
    "noisy_vehicle_data = add_gaussian_noise(vehicle_dataset_path, noise_level=0.01)  # Change noise level as needed\n",
    "noisy_training_data = add_gaussian_noise(training_dataset_path, noise_level=0.01)  # Change noise level as needed\n",
    "\n",
    "# Save the noisy datasets to new CSV files\n",
    "noisy_vehicle_data.to_csv('1000VehicleDataset_Noisy_0.01.csv', index=False)\n",
    "noisy_training_data.to_csv('VehicleTrainingDataset_Noisy_0.01.csv', index=False)\n",
    "\n",
    "print(\"Noisy datasets have been saved.\")\n"
   ]
  },
  {
   "cell_type": "code",
   "execution_count": null,
   "id": "20cf801f",
   "metadata": {},
   "outputs": [],
   "source": []
  }
 ],
 "metadata": {
  "kernelspec": {
   "display_name": "Python 3 (ipykernel)",
   "language": "python",
   "name": "python3"
  },
  "language_info": {
   "codemirror_mode": {
    "name": "ipython",
    "version": 3
   },
   "file_extension": ".py",
   "mimetype": "text/x-python",
   "name": "python",
   "nbconvert_exporter": "python",
   "pygments_lexer": "ipython3",
   "version": "3.11.5"
  }
 },
 "nbformat": 4,
 "nbformat_minor": 5
}
